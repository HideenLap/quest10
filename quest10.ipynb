{
 "cells": [
  {
   "cell_type": "markdown",
   "metadata": {},
   "source": [
    "Basic Probability \\\n",
    "1: 1/6 or 0.16 (16%) \\\n",
    "2: 1/2 or 0.5 (50%) \\\n",
    "3: 3/5 or 0.6 (60%)  \n",
    "4: 1/13 or 7.69% \\\n",
    "5: 10/13 or 76.93% \n",
    "\n"
   ]
  },
  {
   "cell_type": "markdown",
   "metadata": {},
   "source": []
  },
  {
   "cell_type": "markdown",
   "metadata": {},
   "source": [
    "*Probability with Combinations and Permutations"
   ]
  },
  {
   "cell_type": "code",
   "execution_count": 16,
   "metadata": {},
   "outputs": [
    {
     "name": "stdout",
     "output_type": "stream",
     "text": [
      "120\n"
     ]
    }
   ],
   "source": [
    "def books_on_shelf(n):\n",
    "    result = 1\n",
    "    for i in range(1, n + 1):\n",
    "        result *= i\n",
    "    return result\n",
    "print(books_on_shelf(5))"
   ]
  },
  {
   "cell_type": "code",
   "execution_count": 21,
   "metadata": {},
   "outputs": [
    {
     "name": "stdout",
     "output_type": "stream",
     "text": [
      "120.0\n"
     ]
    }
   ],
   "source": [
    "from math import factorial\n",
    "\n",
    "def group_of_tree(n, k):\n",
    "    if k > n:\n",
    "        raise IndexError\n",
    "    if n < 0 or k < 0:\n",
    "        raise IndexError\n",
    "    result = factorial(n) / (factorial(k) * factorial((n-k)))\n",
    "    return result\n",
    "\n",
    "print(group_of_tree(10, 3))\n"
   ]
  },
  {
   "cell_type": "code",
   "execution_count": 24,
   "metadata": {},
   "outputs": [
    {
     "name": "stdout",
     "output_type": "stream",
     "text": [
      "0.5556\n"
     ]
    }
   ],
   "source": [
    "def dices(n):\n",
    "    return round((6 * 5 * 4) / 6 ** 3, 4)\n",
    "\n",
    "print(dices(3))"
   ]
  },
  {
   "cell_type": "code",
   "execution_count": 28,
   "metadata": {},
   "outputs": [
    {
     "name": "stdout",
     "output_type": "stream",
     "text": [
      "0.0010859728506787331\n"
     ]
    }
   ],
   "source": [
    "from math import comb\n",
    "\n",
    "result1 = comb(4, 2) * comb(4, 1)\n",
    "total = comb(52, 3)\n",
    "\n",
    "print(result1 / total)"
   ]
  },
  {
   "cell_type": "code",
   "execution_count": 5,
   "metadata": {},
   "outputs": [
    {
     "name": "stdout",
     "output_type": "stream",
     "text": [
      "8.803969478737995e-05\n"
     ]
    }
   ],
   "source": [
    "from math import comb\n",
    "\n",
    "\n",
    "result = comb(6, 3) * ((1/60) ** 3) * ((59/ 60) ** 3)\n",
    "print(f'{result}')"
   ]
  },
  {
   "cell_type": "markdown",
   "metadata": {},
   "source": [
    "*Conditional Probability\n",
    "1: 1/3\\\n",
    "2: 1/2 \\\n",
    "3: 5/14\\\n",
    "4: 1,87%\\\n",
    "5: 20% or 0,2\n"
   ]
  },
  {
   "cell_type": "markdown",
   "metadata": {},
   "source": []
  },
  {
   "cell_type": "markdown",
   "metadata": {},
   "source": [
    "Bayes' Theorem\n",
    "1: P(A | B) = P(B | A) * A / P(b | A) * P(B) + P(A | B) * P(A)\\\n",
    "2: 62.5% \\\n",
    "3: P(D | H) * P(H) / P(D)\\\n",
    "4: 0,95 * 0,1 / P(B)\\\n",
    "5: 7/4\n",
    "\n"
   ]
  },
  {
   "cell_type": "code",
   "execution_count": 15,
   "metadata": {},
   "outputs": [
    {
     "name": "stdout",
     "output_type": "stream",
     "text": [
      "Data: [4, 8, 6, 9, 5, 2, 7]\n",
      "Mean: 5.857142857142857\n",
      "Median: 6\n",
      "Moda: 4\n"
     ]
    }
   ],
   "source": [
    "import statistics as st\n",
    "data = [4, 8, 6, 9, 5, 2, 7]\n",
    "mean = sum(data) / len(data)\n",
    "median = st.median(data)\n",
    "# median = data[len(data) // 2] if len(data) % 2 != 0 else data[len(data) // 2] + data[len(data) // 2 - 1]\n",
    "moda = st.mode(data)\n",
    "print(\"Data:\", data)\n",
    "print(\"Mean:\", mean)\n",
    "print(\"Median:\", median)\n",
    "print(\"Moda:\", moda)\n",
    "\n"
   ]
  },
  {
   "cell_type": "markdown",
   "metadata": {},
   "source": [
    "2: 10"
   ]
  },
  {
   "cell_type": "code",
   "execution_count": 18,
   "metadata": {},
   "outputs": [
    {
     "name": "stdout",
     "output_type": "stream",
     "text": [
      "3.03315017762062\n"
     ]
    }
   ],
   "source": [
    "import numpy as np\n",
    "\n",
    "data = np.array([3, 7, 8, 5, 12])\n",
    "mean_value = np.mean(data)\n",
    "variance = np.var(data)\n",
    "std_dev = np.std(data)\n",
    "\n",
    "print(std_dev)"
   ]
  },
  {
   "cell_type": "code",
   "execution_count": 19,
   "metadata": {},
   "outputs": [
    {
     "name": "stdout",
     "output_type": "stream",
     "text": [
      "1 : 1\n",
      "2 : 2\n",
      "3 : 3\n",
      "4 : 4\n"
     ]
    }
   ],
   "source": [
    "data = np.array([1, 2, 2, 3, 3, 3, 4, 4, 4, 4])\n",
    "unique_values, counts = np.unique(data, return_counts=True)\n",
    "\n",
    "for value, uniq in zip(unique_values, counts):\n",
    "    print(f'{value} : {uniq}')\n"
   ]
  },
  {
   "cell_type": "code",
   "execution_count": 22,
   "metadata": {},
   "outputs": [
    {
     "data": {
      "image/png": "[encoded data removed]",
      "text/plain": [
       "<Figure size 800x600 with 1 Axes>"
      ]
     },
     "metadata": {},
     "output_type": "display_data"
    },
    {
     "name": "stdout",
     "output_type": "stream",
     "text": [
      "Выбросы: [200]\n"
     ]
    }
   ],
   "source": [
    "import matplotlib.pyplot as plt\n",
    "import seaborn as sns\n",
    "import numpy as np\n",
    "\n",
    "\n",
    "data = np.array([30, 40, 45, 55, 60, 75, 80, 95, 120, 200])\n",
    "\n",
    "plt.figure(figsize=(8, 6))\n",
    "sns.boxplot(data)\n",
    "\n",
    "plt.title(\"Ящичная диаграмма\")\n",
    "plt.show()\n",
    "\n",
    "q1 = np.percentile(data, 25)\n",
    "q3 = np.percentile(data, 75)\n",
    "\n",
    "iqr = q3 - q1\n",
    "\n",
    "lower_bound = q1 - 1.5 * iqr\n",
    "upper_bound = q3 + 1.5 * iqr\n",
    "\n",
    "outliers = data[(data < lower_bound) | (data > upper_bound)]\n",
    "print(\"Выбросы:\", outliers)\n",
    "\n"
   ]
  },
  {
   "cell_type": "code",
   "execution_count": 23,
   "metadata": {},
   "outputs": [
    {
     "name": "stdout",
     "output_type": "stream",
     "text": [
      "P(X=0) = 0.0009765625\n",
      "P(X=1) = 0.009765625\n",
      "P(X=2) = 0.0439453125\n",
      "P(X=3) = 0.1171875\n",
      "P(X=4) = 0.205078125\n",
      "P(X=5) = 0.24609375\n",
      "P(X=6) = 0.205078125\n",
      "P(X=7) = 0.1171875\n",
      "P(X=8) = 0.0439453125\n",
      "P(X=9) = 0.009765625\n",
      "P(X=10) = 0.0009765625\n"
     ]
    }
   ],
   "source": [
    "import math\n",
    "\n",
    "n = 10\n",
    "\n",
    "for k in range(n + 1):\n",
    "    probability = math.comb(n, k) * (0.5 ** k) * (0.5 ** (n - k))\n",
    "    print(f\"P(X={k}) = {probability}\")\n"
   ]
  },
  {
   "cell_type": "markdown",
   "metadata": {},
   "source": [
    "2: 0"
   ]
  },
  {
   "cell_type": "code",
   "execution_count": 27,
   "metadata": {},
   "outputs": [
    {
     "name": "stdout",
     "output_type": "stream",
     "text": [
      "Вероятность получения 7 или более голов за 10 бросков: 0.1719\n"
     ]
    }
   ],
   "source": [
    "#Calculate the probability of obtaining 7 or more heads in 10 flips of a fair coin.\n",
    "import math\n",
    "\n",
    "def binomial_probability(n, k, p):\n",
    "    return math.comb(n, k) * (p ** k) * ((1 - p) ** (n - k))\n",
    "\n",
    "n = 10\n",
    "p = 0.5\n",
    "\n",
    "probability_7_or_more = sum(binomial_probability(n, k, p) for k in range(7, 11))\n",
    "\n",
    "print(f\"Вероятность получения 7 или более голов за 10 бросков: {probability_7_or_more:.4f}\")\n"
   ]
  },
  {
   "cell_type": "code",
   "execution_count": 41,
   "metadata": {},
   "outputs": [
    {
     "name": "stdout",
     "output_type": "stream",
     "text": [
      "0.146526\n"
     ]
    }
   ],
   "source": [
    "#Find the probability that a random variable with a Poisson distribution with λ=4 is equal to 2.\n",
    "\n",
    "print(f'{(2.71828 ** -4) * (4 ** 2) / math.factorial(2):4f}')"
   ]
  },
  {
   "cell_type": "code",
   "execution_count": 43,
   "metadata": {},
   "outputs": [
    {
     "data": {
      "image/png": "[encoded data removed]",
      "text/plain": [
       "<Figure size 640x480 with 1 Axes>"
      ]
     },
     "metadata": {},
     "output_type": "display_data"
    }
   ],
   "source": [
    "x = np.linspace(0, 5, 1000)\n",
    "\n",
    "lambda_param = 1\n",
    "pdf_value = lambda_param * np.exp(-lambda_param * x)\n",
    "\n",
    "plt.plot(x, pdf_value, label='Exponential PDF')\n",
    "plt.title('Exponential Distribution PDF (mean=1)')\n",
    "plt.xlabel('x')\n",
    "plt.ylabel('Probability Density')\n",
    "plt.legend()\n",
    "\n",
    "plt.show()"
   ]
  },
  {
   "cell_type": "code",
   "execution_count": 48,
   "metadata": {},
   "outputs": [
    {
     "name": "stdout",
     "output_type": "stream",
     "text": [
      "Оценка вероятности выпадения герба: 0.550\n",
      "Z-статистика: 1.000\n",
      "p-значение: 0.3173\n",
      "Не отвергаем нулевую гипотезу: Нет статистически значимых доказательств в пользу предвзятости монеты.\n"
     ]
    }
   ],
   "source": [
    "import numpy as np\n",
    "from scipy.stats import norm\n",
    "\n",
    "# Количество выпавших гербов\n",
    "observed_heads = 55\n",
    "\n",
    "# Общее количество бросков\n",
    "total_flips = 100\n",
    "\n",
    "# Ожидаемая вероятность выпадения герба при честной монете\n",
    "expected_prob = 0.5\n",
    "\n",
    "# Вычисляем оценку вероятности выпадения герба по данным\n",
    "observed_prob = observed_heads / total_flips\n",
    "\n",
    "# Вычисляем стандартную ошибку\n",
    "se = np.sqrt((expected_prob * (1 - expected_prob)) / total_flips)\n",
    "\n",
    "# Вычисляем статистику Z\n",
    "z_stat = (observed_prob - expected_prob) / se\n",
    "\n",
    "# Проводим Z-тест\n",
    "p_value = 2 * (1 - norm.cdf(np.abs(z_stat)))\n",
    "\n",
    "# Выводим результаты\n",
    "print(f'Оценка вероятности выпадения герба: {observed_prob:.3f}')\n",
    "print(f'Z-статистика: {z_stat:.3f}')\n",
    "print(f'p-значение: {p_value:.4f}')\n",
    "\n",
    "# Проверяем уровень значимости (например, 0.05)\n",
    "alpha = 0.05\n",
    "if p_value < alpha:\n",
    "    print(\"Отвергаем нулевую гипотезу: Есть статистически значимые доказательства в пользу предвзятости монеты.\")\n",
    "else:\n",
    "    print(\"Не отвергаем нулевую гипотезу: Нет статистически значимых доказательств в пользу предвзятости монеты.\")\n"
   ]
  }
 ],
 "metadata": {
  "kernelspec": {
   "display_name": "Python 3",
   "language": "python",
   "name": "python3"
  },
  "language_info": {
   "codemirror_mode": {
    "name": "ipython",
    "version": 3
   },
   "file_extension": ".py",
   "mimetype": "text/x-python",
   "name": "python",
   "nbconvert_exporter": "python",
   "pygments_lexer": "ipython3",
   "version": "3.12.1"
  }
 },
 "nbformat": 4,
 "nbformat_minor": 2
}
